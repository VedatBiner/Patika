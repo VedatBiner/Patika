{
 "cells": [
  {
   "cell_type": "code",
   "execution_count": 1,
   "id": "3883e6cc",
   "metadata": {},
   "outputs": [],
   "source": [
    "# HGSRecord\n",
    "class HgsRecord:\n",
    "\n",
    "    def __init__(self, ad, soyad, hgsNo, aracTipi, tarih, saat, bakiye):\n",
    "        self.ad = ad\n",
    "        self.soyad = soyad\n",
    "        self.hgsNo = hgsNo\n",
    "        self.aracTipi = aracTipi\n",
    "        self.tarih = tarih\n",
    "        self.saat = saat\n",
    "        self.bakiye = bakiye"
   ]
  },
  {
   "cell_type": "code",
   "execution_count": 2,
   "id": "fee52288",
   "metadata": {},
   "outputs": [],
   "source": [
    "# Otomobil sınıfı\n",
    "class Otomobil:\n",
    "    \n",
    "    def __init__(self, aracTipi, ucret):\n",
    "        self.aracTipi = aracTipi\n",
    "        self.ucret = ucret"
   ]
  },
  {
   "cell_type": "code",
   "execution_count": 3,
   "id": "76f1f472",
   "metadata": {},
   "outputs": [],
   "source": [
    "# Minibüs sınıfı\n",
    "class Minibus:\n",
    "    \n",
    "    def __init__(self, aracTipi, ucret):\n",
    "        self.aracTipi = aracTipi\n",
    "        self.ucret = ucret"
   ]
  },
  {
   "cell_type": "code",
   "execution_count": 4,
   "id": "49997713",
   "metadata": {},
   "outputs": [],
   "source": [
    "# Otobüs sınıfı\n",
    "class Otobus:\n",
    "    \n",
    "    def __init__(self, aracTipi, ucret):\n",
    "        self.aracTipi = aracTipi\n",
    "        self.ucret = ucret"
   ]
  },
  {
   "cell_type": "code",
   "execution_count": 5,
   "id": "b5d7edde",
   "metadata": {},
   "outputs": [],
   "source": [
    "# Araç bilgileri\n",
    "hgs01 = HgsRecord(\"Ali\", \"Yılmaz\", 123456, \"Otomobil\", \"15.08.2022\", \"13:38\", 7500)\n",
    "hgs02 = HgsRecord(\"Mehmet\", \"Yaşar\", 134556, \"Otomobil\", \"15.08.2022\", \"13:48\", 2500)\n",
    "hgs03 = HgsRecord(\"Veli\", \"Deligil\", 8764323, \"Minibüs\", \"15.08.2022\", \"14:33\", 750)\n",
    "hgs04 = HgsRecord(\"Yusuf\", \"Uçar\", 246427, \"Otobüs\", \"15.08.2022\", \"13:15\", 5000)\n",
    "hgs05 = HgsRecord(\"Ayşe\", \"Döner\", 142875, \"Otomobil\", \"15.08.2022\", \"12:355\", 1000)\n",
    "hgs06 = HgsRecord(\"Hatice\", \"Dönmez\", 245390, \"Otomobil\", \"15.08.2022\", \"10:25\", 2000)\n",
    "hgs07 = HgsRecord(\"Metin\", \"Yazar\", 346216, \"Minibüs\", \"15.08.2022\", \"08:45\", 10000)\n",
    "hgs08 = HgsRecord(\"Fatma\", \"Okur\", 859342, \"Otomobil\", \"15.08.2022\", \"09:35\", 8000)\n",
    "hgs09 = HgsRecord(\"Zeynep\", \"Yemez\", 879309, \"Minibüs\", \"15.08.2022\", \"17:25\", 600)\n",
    "hgs10 = HgsRecord(\"Mustafa\", \"Kemal\", 420198, \"Otobüs\", \"15.08.2022\", \"19:36\", 4500)\n",
    "\n",
    "araclar = [hgs01, hgs02, hgs03, hgs04, hgs05, hgs06, hgs07, hgs08, hgs09, hgs10]"
   ]
  },
  {
   "cell_type": "code",
   "execution_count": 6,
   "id": "43779d71",
   "metadata": {},
   "outputs": [],
   "source": [
    "# Otomobil nesnesi\n",
    "otomobil = Otomobil(\"Otomobil\", 300)"
   ]
  },
  {
   "cell_type": "code",
   "execution_count": 7,
   "id": "dcf0a663",
   "metadata": {},
   "outputs": [],
   "source": [
    "# Minibüs nesnesi\n",
    "minibus = Minibus(\"Minibüs\", 500)"
   ]
  },
  {
   "cell_type": "code",
   "execution_count": 8,
   "id": "14e8ac92",
   "metadata": {},
   "outputs": [],
   "source": [
    "# Otobüs nesnesi\n",
    "otobus = Otobus(\"Otobüs\", 500)"
   ]
  },
  {
   "cell_type": "code",
   "execution_count": 9,
   "id": "d20e84f6",
   "metadata": {},
   "outputs": [],
   "source": [
    "rapor = []\n",
    "gelir = []"
   ]
  },
  {
   "cell_type": "code",
   "execution_count": 10,
   "id": "4095783c",
   "metadata": {},
   "outputs": [],
   "source": [
    "# Gişe sınıfı\n",
    "class Gise:\n",
    "\n",
    "    def __init__(self, araclar):\n",
    "        self.araclar = araclar\n",
    "\n",
    "    def ucretAl(self):\n",
    "        toplamGelir = 0\n",
    "        for i in range(len(araclar)):\n",
    "\n",
    "            # bakiyeler düşülüyor.\n",
    "\n",
    "            if araclar[i].aracTipi == otomobil.aracTipi:\n",
    "                araclar[i].bakiye = araclar[i].bakiye - otomobil.ucret\n",
    "                tg = otomobil.ucret\n",
    "\n",
    "            if araclar[i].aracTipi == minibus.aracTipi:\n",
    "                araclar[i].bakiye = araclar[i].bakiye - minibus.ucret\n",
    "                tg = minibus.ucret\n",
    "\n",
    "            if araclar[i].aracTipi == otobus.aracTipi:\n",
    "                araclar[i].bakiye = araclar[i].bakiye - otobus.ucret\n",
    "                tg = otobus.ucret\n",
    "\n",
    "            toplamGelir = toplamGelir + tg\n",
    "            gelir.append(toplamGelir)\n",
    "\n",
    "            # rapor oluştur\n",
    "            rapor.append([araclar[i].ad, araclar[i].soyad, araclar[i].hgsNo, araclar[i].aracTipi, araclar[i].bakiye, araclar[i].tarih, araclar[i].saat])\n",
    "\n",
    "    def raporListele(self):\n",
    "        self.ucretAl()\n",
    "        print(\"Adı\\tSoyadı\\tHGS No\\tAraç Tipi\\tBakiye\\tGeçiş Tarihi\\tGeçiş Saati\")\n",
    "        print(f\"\".center(120,\"-\"))\n",
    "        for i in range(len(araclar)):\n",
    "            print(rapor[i])\n",
    "\n",
    "    def gunlukBilgi(self):\n",
    "        print(f'günlük geçen araç Sayısı : {len(araclar)} - Günlük Bakiye : {gelir[-1]} TL.')"
   ]
  },
  {
   "cell_type": "code",
   "execution_count": 11,
   "id": "9b73bac7",
   "metadata": {},
   "outputs": [],
   "source": [
    "# gişe nesnesi\n",
    "gise = Gise(araclar)    "
   ]
  },
  {
   "cell_type": "code",
   "execution_count": 12,
   "id": "e97874f6",
   "metadata": {},
   "outputs": [
    {
     "name": "stdout",
     "output_type": "stream",
     "text": [
      "Adı\tSoyadı\tHGS No\tAraç Tipi\tBakiye\tGeçiş Tarihi\tGeçiş Saati\n",
      "------------------------------------------------------------------------------------------------------------------------\n",
      "['Ali', 'Yılmaz', 123456, 'Otomobil', 7200, '15.08.2022', '13:38']\n",
      "['Mehmet', 'Yaşar', 134556, 'Otomobil', 2200, '15.08.2022', '13:48']\n",
      "['Veli', 'Deligil', 8764323, 'Minibüs', 250, '15.08.2022', '14:33']\n",
      "['Yusuf', 'Uçar', 246427, 'Otobüs', 4500, '15.08.2022', '13:15']\n",
      "['Ayşe', 'Döner', 142875, 'Otomobil', 700, '15.08.2022', '12:355']\n",
      "['Hatice', 'Dönmez', 245390, 'Otomobil', 1700, '15.08.2022', '10:25']\n",
      "['Metin', 'Yazar', 346216, 'Minibüs', 9500, '15.08.2022', '08:45']\n",
      "['Fatma', 'Okur', 859342, 'Otomobil', 7700, '15.08.2022', '09:35']\n",
      "['Zeynep', 'Yemez', 879309, 'Minibüs', 100, '15.08.2022', '17:25']\n",
      "['Mustafa', 'Kemal', 420198, 'Otobüs', 4000, '15.08.2022', '19:36']\n"
     ]
    }
   ],
   "source": [
    "# Gişe geçiş raporu\n",
    "gise.raporListele()"
   ]
  },
  {
   "cell_type": "code",
   "execution_count": 13,
   "id": "2a0f157c",
   "metadata": {},
   "outputs": [
    {
     "name": "stdout",
     "output_type": "stream",
     "text": [
      "günlük geçen araç Sayısı : 10 - Günlük Bakiye : 4000 TL.\n"
     ]
    }
   ],
   "source": [
    "# Gişe günlük bakiye\n",
    "gise.gunlukBilgi()"
   ]
  }
 ],
 "metadata": {
  "kernelspec": {
   "display_name": "Python 3.9.7 ('base')",
   "language": "python",
   "name": "python3"
  },
  "language_info": {
   "codemirror_mode": {
    "name": "ipython",
    "version": 3
   },
   "file_extension": ".py",
   "mimetype": "text/x-python",
   "name": "python",
   "nbconvert_exporter": "python",
   "pygments_lexer": "ipython3",
   "version": "3.9.7"
  },
  "vscode": {
   "interpreter": {
    "hash": "a27ee10d7e583a3809802baff944acbdb59b53f6f23a6232f6abe087b6b9564e"
   }
  }
 },
 "nbformat": 4,
 "nbformat_minor": 5
}
